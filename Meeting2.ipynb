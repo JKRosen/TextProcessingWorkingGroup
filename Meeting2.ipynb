{
 "cells": [
  {
   "cell_type": "markdown",
   "metadata": {},
   "source": [
    "# Meeting 2! \n",
    "\n",
    "# Thanks for coming back! \n",
    "\n",
    "# Agenda\n",
    "\n",
    "\n",
    "## Today we will apply the concepts we learned in the first meeting in an interactive project. \n",
    "\n",
    "\n",
    "## We will create a content based recommender system that would suggest courses simillar to the ones that we like. \n",
    "\n",
    "To begin, we first need to acquire some data. One very interesting place do to so could be drexel's course catalog (http://catalog.drexel.edu/coursedescriptions/quarter/undergrad/). If we start from here we can get all the course listings for all the courses for all different colleges and then use those the text descriptions for our purpose. \n"
   ]
  },
  {
   "cell_type": "code",
   "execution_count": 1,
   "metadata": {},
   "outputs": [],
   "source": [
    "import requests\n",
    "from bs4 import BeautifulSoup\n",
    "import pandas as pd\n",
    "import sklearn\n",
    "from sklearn.metrics.pairwise import linear_kernel\n",
    "from gensim.models import Word2Vec\n",
    "import logging  # Setting up the loggings to monitor gensim\n",
    "logging.basicConfig(format=\"%(levelname)s - %(asctime)s: %(message)s\", datefmt= '%H:%M:%S', level=logging.INFO)\n",
    "from sklearn.manifold import TSNE\n",
    "import spacy\n",
    "import en_core_web_sm\n",
    "import numpy as np"
   ]
  },
  {
   "cell_type": "code",
   "execution_count": null,
   "metadata": {},
   "outputs": [],
   "source": [
    "!pip install beautifulsoup4"
   ]
  },
  {
   "cell_type": "markdown",
   "metadata": {},
   "source": [
    "Beautifulsoup is an astonishingly useful library to parse HTML. We can use it here to get links to the courses for all the colleges and then all the courses subsequently. "
   ]
  },
  {
   "cell_type": "code",
   "execution_count": 2,
   "metadata": {},
   "outputs": [
    {
     "data": {
      "text/plain": [
       "'<!DOCTYPE html PUBLIC \"-//W3C//DTD XHTML 1.0 Transitional//EN\" \"http://www.w3.org/TR/xhtml1/DTD/xhtml1-transitional.dtd\">\\n<html xmlns=\"http://www.w3.org/1999/xhtml\">\\n\\n<head>\\n<title>Undergraduate &lt; 2019-2020 Catalog | Drexel University</title>\\n<meta http-equiv=\"Content-Type\" content=\"text/html; charset=utf-8\" />\\n<meta name=\"google-site-verification\" content=\"LnQFIpujtH5SBNWtg5epHrmxj2C9vrkw7fOJegSnNnQ\" />\\n<link rel=\"search\" type=\"application/opensearchdescription+xml\"\\n\\t\\t\\thref=\"/search/opensearch.xml\" title=\"Catalog\" />\\n<meta name=\"viewport\" content=\"width=device-width, initial-scale=1.0, minimum-scale=1.0\" />\\n<link href=\"/favicon.ico\" rel=\"shortcut icon\" />\\n<link rel=\"stylesheet\" type=\"text/css\" href=\"/css/reset.css\" />\\n<link rel=\"stylesheet\" type=\"text/css\" href=\"/css/screen.css\" media=\"screen\" />\\n<link rel=\"stylesheet\" type=\"text/css\" href=\"/css/handheld.css\" media=\"only screen and (max-width: 640px)\" />\\n<link rel=\"stylesheet\" type=\"text/css\" href=\"/css/print.css\" media=\"print\" />\\n'"
      ]
     },
     "execution_count": 2,
     "metadata": {},
     "output_type": "execute_result"
    }
   ],
   "source": [
    "data = requests.get(\"http://catalog.drexel.edu/coursedescriptions/quarter/undergrad/\")\n",
    "\n",
    "data.text[:1000]"
   ]
  },
  {
   "cell_type": "code",
   "execution_count": 3,
   "metadata": {},
   "outputs": [],
   "source": [
    "link_page_soup = BeautifulSoup(data.text, 'html.parser')"
   ]
  },
  {
   "cell_type": "code",
   "execution_count": 4,
   "metadata": {},
   "outputs": [
    {
     "data": {
      "text/plain": [
       "15"
      ]
     },
     "execution_count": 4,
     "metadata": {},
     "output_type": "execute_result"
    }
   ],
   "source": [
    "# To find all the links to course descriptions\n",
    "\n",
    "list_link_divs = link_page_soup.find_all(\"div\", class_=\"qugcourses\")\n",
    "len(list_link_divs)"
   ]
  },
  {
   "cell_type": "code",
   "execution_count": 5,
   "metadata": {},
   "outputs": [],
   "source": [
    "list_links_a = []\n",
    "for div in list_link_divs:\n",
    "#     print(div.find_all(\"a\"))\n",
    "#     print(\"*\"*100)\n",
    "    for a in div.find_all(\"a\",  href=True):\n",
    "#         print(\"http://catalog.drexel.edu/\" + a['href'])\n",
    "        list_links_a.append(\"http://catalog.drexel.edu/\" + a['href'] )"
   ]
  },
  {
   "cell_type": "code",
   "execution_count": 6,
   "metadata": {},
   "outputs": [],
   "source": [
    "course_name_description_list = []\n",
    "for course_link in list_links_a:\n",
    "    course_soup = BeautifulSoup(requests.get(course_link).text, 'html.parser')\n",
    "    for course in course_soup.find_all(\"div\", class_=\"courseblock\"):\n",
    "#         print(course.find(\"p\" , class_ = \"courseblocktitle\").text)\n",
    "#         print(course.find(\"p\" , class_ = \"courseblockdesc\").text)        \n",
    "        course_name_description_list.append([course.find(\"p\" , class_ = \"courseblocktitle\").text, course.find(\"p\" , class_ = \"courseblockdesc\").text ])"
   ]
  },
  {
   "cell_type": "markdown",
   "metadata": {},
   "source": [
    "As you can probably see, the data that we extract is fairly messy, we need some preprocessing before we can start to play with it."
   ]
  },
  {
   "cell_type": "code",
   "execution_count": 7,
   "metadata": {
    "scrolled": true
   },
   "outputs": [
    {
     "data": {
      "text/html": [
       "<div>\n",
       "<style scoped>\n",
       "    .dataframe tbody tr th:only-of-type {\n",
       "        vertical-align: middle;\n",
       "    }\n",
       "\n",
       "    .dataframe tbody tr th {\n",
       "        vertical-align: top;\n",
       "    }\n",
       "\n",
       "    .dataframe thead th {\n",
       "        text-align: right;\n",
       "    }\n",
       "</style>\n",
       "<table border=\"1\" class=\"dataframe\">\n",
       "  <thead>\n",
       "    <tr style=\"text-align: right;\">\n",
       "      <th></th>\n",
       "      <th>TitleBlock</th>\n",
       "      <th>DescriptionBlock</th>\n",
       "    </tr>\n",
       "  </thead>\n",
       "  <tbody>\n",
       "    <tr>\n",
       "      <td>0</td>\n",
       "      <td>ADGD I199  Independent Study in ADGD 0.0-12.0 ...</td>\n",
       "      <td>\\nSelf-directed within the area of study requi...</td>\n",
       "    </tr>\n",
       "    <tr>\n",
       "      <td>1</td>\n",
       "      <td>ADGD I299  Independent Study in ADGD 0.0-12.0 ...</td>\n",
       "      <td>\\nSelf-directed within the area of study requi...</td>\n",
       "    </tr>\n",
       "    <tr>\n",
       "      <td>2</td>\n",
       "      <td>ADGD I399  Independent Study in ADGD 0.0-12.0 ...</td>\n",
       "      <td>\\nSelf-directed within the area of study requi...</td>\n",
       "    </tr>\n",
       "    <tr>\n",
       "      <td>3</td>\n",
       "      <td>ADGD I499  Independent Study in ADGD 0.0-12.0 ...</td>\n",
       "      <td>\\nSelf-directed within the area of study requi...</td>\n",
       "    </tr>\n",
       "    <tr>\n",
       "      <td>4</td>\n",
       "      <td>ADGD T180  Special Topics in Advertising Desig...</td>\n",
       "      <td>\\nTopics decided upon by faculty will vary wit...</td>\n",
       "    </tr>\n",
       "    <tr>\n",
       "      <td>...</td>\n",
       "      <td>...</td>\n",
       "      <td>...</td>\n",
       "    </tr>\n",
       "    <tr>\n",
       "      <td>4761</td>\n",
       "      <td>NSC 302  Weapons 2.0 Credits</td>\n",
       "      <td>\\nThis course provides an overview of the theo...</td>\n",
       "    </tr>\n",
       "    <tr>\n",
       "      <td>4762</td>\n",
       "      <td>NSC 310  Evolution of Warfare 2.0 Credits</td>\n",
       "      <td>\\nThis course is designed to add broad histori...</td>\n",
       "    </tr>\n",
       "    <tr>\n",
       "      <td>4763</td>\n",
       "      <td>NSC 401  Navigation II 2.0 Credits</td>\n",
       "      <td>\\nInsight into modern naval operations is gain...</td>\n",
       "    </tr>\n",
       "    <tr>\n",
       "      <td>4764</td>\n",
       "      <td>NSC 402  Leadership and Ethics 2.0 Credits</td>\n",
       "      <td>\\nThe capstone course of the NROTC curriculum,...</td>\n",
       "    </tr>\n",
       "    <tr>\n",
       "      <td>4765</td>\n",
       "      <td>NSC 410  Amphibious Warfare 2.0 Credits</td>\n",
       "      <td>\\nManeuver Warfare is designed to provide a fo...</td>\n",
       "    </tr>\n",
       "  </tbody>\n",
       "</table>\n",
       "<p>4766 rows × 2 columns</p>\n",
       "</div>"
      ],
      "text/plain": [
       "                                             TitleBlock  \\\n",
       "0     ADGD I199  Independent Study in ADGD 0.0-12.0 ...   \n",
       "1     ADGD I299  Independent Study in ADGD 0.0-12.0 ...   \n",
       "2     ADGD I399  Independent Study in ADGD 0.0-12.0 ...   \n",
       "3     ADGD I499  Independent Study in ADGD 0.0-12.0 ...   \n",
       "4     ADGD T180  Special Topics in Advertising Desig...   \n",
       "...                                                 ...   \n",
       "4761                       NSC 302  Weapons 2.0 Credits   \n",
       "4762          NSC 310  Evolution of Warfare 2.0 Credits   \n",
       "4763                 NSC 401  Navigation II 2.0 Credits   \n",
       "4764         NSC 402  Leadership and Ethics 2.0 Credits   \n",
       "4765            NSC 410  Amphibious Warfare 2.0 Credits   \n",
       "\n",
       "                                       DescriptionBlock  \n",
       "0     \\nSelf-directed within the area of study requi...  \n",
       "1     \\nSelf-directed within the area of study requi...  \n",
       "2     \\nSelf-directed within the area of study requi...  \n",
       "3     \\nSelf-directed within the area of study requi...  \n",
       "4     \\nTopics decided upon by faculty will vary wit...  \n",
       "...                                                 ...  \n",
       "4761  \\nThis course provides an overview of the theo...  \n",
       "4762  \\nThis course is designed to add broad histori...  \n",
       "4763  \\nInsight into modern naval operations is gain...  \n",
       "4764  \\nThe capstone course of the NROTC curriculum,...  \n",
       "4765  \\nManeuver Warfare is designed to provide a fo...  \n",
       "\n",
       "[4766 rows x 2 columns]"
      ]
     },
     "execution_count": 7,
     "metadata": {},
     "output_type": "execute_result"
    }
   ],
   "source": [
    "course_df = pd.DataFrame(course_name_description_list)\n",
    "course_df.columns = [\"TitleBlock\" , \"DescriptionBlock\"]\n",
    "course_df"
   ]
  },
  {
   "cell_type": "markdown",
   "metadata": {},
   "source": [
    "We can use regular expressions to extract the three pieces of data that we need from the TitleBlock. "
   ]
  },
  {
   "cell_type": "code",
   "execution_count": 8,
   "metadata": {},
   "outputs": [],
   "source": [
    "course_df = pd.concat([course_df,  course_df.TitleBlock.str.extract(r\"(.*\\s*\\d{3,5})\\s*(.*)(\\d.\\d)\") ], axis =1 )\n",
    "\n",
    "course_df.columns = [\"TitleBlock\" , \"DescriptionBlock\", \"CourseID\" , \"CourseName\" , \"Credits\" ]\n"
   ]
  },
  {
   "cell_type": "code",
   "execution_count": 9,
   "metadata": {},
   "outputs": [],
   "source": [
    "course_df.DescriptionBlock = course_df.DescriptionBlock.str.replace(\"\\n\", \"\")\n"
   ]
  },
  {
   "cell_type": "code",
   "execution_count": null,
   "metadata": {},
   "outputs": [],
   "source": []
  },
  {
   "cell_type": "markdown",
   "metadata": {},
   "source": [
    "You might remember TF-IDF from our last meeting. It is a way to represent sentences (documents) using their frequency and unique-ness. We use TF-IDF here to get vector representation of our course descriptions. "
   ]
  },
  {
   "cell_type": "code",
   "execution_count": 16,
   "metadata": {},
   "outputs": [],
   "source": [
    "from sklearn.feature_extraction.text import TfidfVectorizer\n",
    "tfidf_vectorizer = TfidfVectorizer(use_idf=True)\n",
    "tfidf_matrix = tfidf_vectorizer.fit_transform(course_df[\"DescriptionBlock\"])"
   ]
  },
  {
   "cell_type": "code",
   "execution_count": 17,
   "metadata": {},
   "outputs": [
    {
     "data": {
      "text/plain": [
       "(4766, 9971)"
      ]
     },
     "execution_count": 17,
     "metadata": {},
     "output_type": "execute_result"
    }
   ],
   "source": [
    "tfidf_matrix.shape"
   ]
  },
  {
   "cell_type": "code",
   "execution_count": 18,
   "metadata": {},
   "outputs": [],
   "source": [
    "course_df[\"tf_idf_vector\"] = pd.DataFrame(tfidf_matrix.todense()).values.tolist()"
   ]
  },
  {
   "cell_type": "code",
   "execution_count": 19,
   "metadata": {},
   "outputs": [
    {
     "data": {
      "text/plain": [
       "Index(['TitleBlock', 'DescriptionBlock', 'CourseID', 'CourseName', 'Credits',\n",
       "       'tf_idf_vector'],\n",
       "      dtype='object')"
      ]
     },
     "execution_count": 19,
     "metadata": {},
     "output_type": "execute_result"
    }
   ],
   "source": [
    "course_df[\"CourseID\"] = course_df[\"CourseID\"].str.replace(\"\\xa0\", ' ')\n",
    "course_df.columns\n",
    "# [\"tf_idf_vector\"]"
   ]
  },
  {
   "attachments": {
    "cosine_similarity_formula.png": {
     "image/png": "[encoded data removed]"
    },
    "cosine_similarity_graph.png": {
     "image/png": "[encoded data removed]"
    }
   },
   "cell_type": "markdown",
   "metadata": {},
   "source": [
    "Cosine similarity is just the cosine of angles between two vectors. \n",
    "\n",
    "![cosine_similarity_formula.png](attachment:cosine_similarity_formula.png)        \n",
    "\n",
    "\n",
    "\n",
    "![cosine_similarity_graph.png](attachment:cosine_similarity_graph.png)"
   ]
  },
  {
   "cell_type": "code",
   "execution_count": 20,
   "metadata": {},
   "outputs": [],
   "source": [
    "def get_tf_idf_by_course(course_name):\n",
    "    return np.array(np.array(course_df[course_df[\"CourseID\"] == course_name][\"tf_idf_vector\"])[0]).reshape(1, -1)\n",
    "\n",
    "\n",
    "def get_cosine_similarity(course_a , course_b):\n",
    "    return sklearn.metrics.pairwise.cosine_similarity(get_tf_idf_by_course(course_a) , get_tf_idf_by_course(course_b) )     "
   ]
  },
  {
   "cell_type": "code",
   "execution_count": 21,
   "metadata": {},
   "outputs": [
    {
     "data": {
      "text/plain": [
       "array([[0.06270216]])"
      ]
     },
     "execution_count": 21,
     "metadata": {},
     "output_type": "execute_result"
    }
   ],
   "source": [
    "sklearn.metrics.pairwise.cosine_similarity(get_tf_idf_by_course(\"CS 171\") , get_tf_idf_by_course(\"INFO 151\") ) \n",
    "# get_tf_idf_by_course(\"CS 172\")"
   ]
  },
  {
   "cell_type": "code",
   "execution_count": 22,
   "metadata": {},
   "outputs": [
    {
     "data": {
      "text/plain": [
       "array([[0.04055797]])"
      ]
     },
     "execution_count": 22,
     "metadata": {},
     "output_type": "execute_result"
    }
   ],
   "source": [
    "get_cosine_similarity(\"CS 171\", \"INFO 152\")"
   ]
  },
  {
   "cell_type": "code",
   "execution_count": 23,
   "metadata": {},
   "outputs": [
    {
     "data": {
      "text/plain": [
       "array([[0.73993416]])"
      ]
     },
     "execution_count": 23,
     "metadata": {},
     "output_type": "execute_result"
    }
   ],
   "source": [
    "get_cosine_similarity(\"CS 171\", \"CS 175\")"
   ]
  },
  {
   "cell_type": "code",
   "execution_count": 24,
   "metadata": {},
   "outputs": [
    {
     "data": {
      "text/plain": [
       "array([[0.3894445]])"
      ]
     },
     "execution_count": 24,
     "metadata": {},
     "output_type": "execute_result"
    }
   ],
   "source": [
    "get_cosine_similarity(\"ENGL 101\", \"ENGL 102\")"
   ]
  },
  {
   "cell_type": "code",
   "execution_count": 25,
   "metadata": {},
   "outputs": [
    {
     "data": {
      "text/plain": [
       "array([[1.]])"
      ]
     },
     "execution_count": 25,
     "metadata": {},
     "output_type": "execute_result"
    }
   ],
   "source": [
    "sklearn.metrics.pairwise.cosine_similarity(np.array(course_df[\"tf_idf_vector\"].values[0]).reshape(1, -1)  )     "
   ]
  },
  {
   "cell_type": "code",
   "execution_count": 26,
   "metadata": {},
   "outputs": [
    {
     "data": {
      "text/plain": [
       "0       [0.0, 0.0, 0.0, 0.0, 0.0, 0.0, 0.0, 0.0, 0.0, ...\n",
       "1       [0.0, 0.0, 0.0, 0.0, 0.0, 0.0, 0.0, 0.0, 0.0, ...\n",
       "2       [0.0, 0.0, 0.0, 0.0, 0.0, 0.0, 0.0, 0.0, 0.0, ...\n",
       "3       [0.0, 0.0, 0.0, 0.0, 0.0, 0.0, 0.0, 0.0, 0.0, ...\n",
       "4       [0.0, 0.0, 0.0, 0.0, 0.0, 0.0, 0.0, 0.0, 0.0, ...\n",
       "                              ...                        \n",
       "4761    [0.0, 0.0, 0.0, 0.0, 0.0, 0.0, 0.0, 0.0, 0.0, ...\n",
       "4762    [0.0, 0.0, 0.0, 0.0, 0.0, 0.0, 0.0, 0.0, 0.0, ...\n",
       "4763    [0.0, 0.0, 0.0, 0.0, 0.0, 0.0, 0.0, 0.0, 0.0, ...\n",
       "4764    [0.0, 0.0, 0.0, 0.0, 0.0, 0.0, 0.0, 0.0, 0.0, ...\n",
       "4765    [0.0, 0.0, 0.0, 0.0, 0.0, 0.0, 0.0, 0.0, 0.0, ...\n",
       "Name: tf_idf_vector, Length: 4766, dtype: object"
      ]
     },
     "execution_count": 26,
     "metadata": {},
     "output_type": "execute_result"
    }
   ],
   "source": [
    "\n",
    "course_df[\"tf_idf_vector\"] = course_df[\"tf_idf_vector\"].apply(lambda x: np.array(x))\n",
    "\n",
    "course_df[\"tf_idf_vector\"]\n",
    "\n"
   ]
  },
  {
   "cell_type": "code",
   "execution_count": 27,
   "metadata": {},
   "outputs": [],
   "source": [
    "tf_idf_cosine_sim = linear_kernel(tfidf_matrix , tfidf_matrix)"
   ]
  },
  {
   "cell_type": "code",
   "execution_count": 29,
   "metadata": {},
   "outputs": [],
   "source": [
    "def get_recommendations(title, cosine_sim=tf_idf_cosine_sim):\n",
    "    # Get the index of the movie that matches the title\n",
    "    idx = pd.Index(course_df[\"CourseID\"]).get_loc(title)\n",
    "#     print(idx)\n",
    "    \n",
    "#     # Get the pairwsie similarity scores of all movies with that movie\n",
    "    sim_scores = list(enumerate(cosine_sim[idx]))\n",
    "\n",
    "    # Sort the movies based on the similarity scores\n",
    "    sim_scores = sorted(sim_scores, key=lambda x: x[1], reverse=True)\n",
    "\n",
    "    # Get the scores of the 10 most similar movies\n",
    "    sim_scores = sim_scores[1:11]\n",
    "\n",
    "    # Get the movie indices\n",
    "    movie_indices = [i[0] for i in sim_scores]\n",
    "\n",
    "    # Return the top 10 most similar movies\n",
    "    return course_df[['CourseID','CourseName'] ].iloc[movie_indices]"
   ]
  },
  {
   "cell_type": "code",
   "execution_count": 30,
   "metadata": {},
   "outputs": [
    {
     "data": {
      "text/html": [
       "<div>\n",
       "<style scoped>\n",
       "    .dataframe tbody tr th:only-of-type {\n",
       "        vertical-align: middle;\n",
       "    }\n",
       "\n",
       "    .dataframe tbody tr th {\n",
       "        vertical-align: top;\n",
       "    }\n",
       "\n",
       "    .dataframe thead th {\n",
       "        text-align: right;\n",
       "    }\n",
       "</style>\n",
       "<table border=\"1\" class=\"dataframe\">\n",
       "  <thead>\n",
       "    <tr style=\"text-align: right;\">\n",
       "      <th></th>\n",
       "      <th>CourseID</th>\n",
       "      <th>CourseName</th>\n",
       "    </tr>\n",
       "  </thead>\n",
       "  <tbody>\n",
       "    <tr>\n",
       "      <td>3016</td>\n",
       "      <td>CS 176</td>\n",
       "      <td>Advanced Computer Programming II</td>\n",
       "    </tr>\n",
       "    <tr>\n",
       "      <td>3009</td>\n",
       "      <td>CS 143</td>\n",
       "      <td>Computer Programming Fundamentals</td>\n",
       "    </tr>\n",
       "    <tr>\n",
       "      <td>3490</td>\n",
       "      <td>ECE 203</td>\n",
       "      <td>Programming for Engineers</td>\n",
       "    </tr>\n",
       "    <tr>\n",
       "      <td>2756</td>\n",
       "      <td>MIS 348</td>\n",
       "      <td>Visual Basic Database Programming for Business</td>\n",
       "    </tr>\n",
       "    <tr>\n",
       "      <td>3019</td>\n",
       "      <td>CS 265</td>\n",
       "      <td>Advanced Programming Tools and Techniques</td>\n",
       "    </tr>\n",
       "    <tr>\n",
       "      <td>3008</td>\n",
       "      <td>CS 140</td>\n",
       "      <td>Introduction to Multimedia Programming</td>\n",
       "    </tr>\n",
       "    <tr>\n",
       "      <td>2752</td>\n",
       "      <td>MIS 342</td>\n",
       "      <td>Systems Analysis and Design</td>\n",
       "    </tr>\n",
       "    <tr>\n",
       "      <td>3136</td>\n",
       "      <td>INFO 355</td>\n",
       "      <td>Systems Analysis II</td>\n",
       "    </tr>\n",
       "    <tr>\n",
       "      <td>3158</td>\n",
       "      <td>SE 320</td>\n",
       "      <td>Software Verification and Validation</td>\n",
       "    </tr>\n",
       "    <tr>\n",
       "      <td>3015</td>\n",
       "      <td>CS 175</td>\n",
       "      <td>Advanced Computer Programming I</td>\n",
       "    </tr>\n",
       "  </tbody>\n",
       "</table>\n",
       "</div>"
      ],
      "text/plain": [
       "      CourseID                                       CourseName\n",
       "3016    CS 176                Advanced Computer Programming II \n",
       "3009    CS 143               Computer Programming Fundamentals \n",
       "3490   ECE 203                       Programming for Engineers \n",
       "2756   MIS 348  Visual Basic Database Programming for Business \n",
       "3019    CS 265       Advanced Programming Tools and Techniques \n",
       "3008    CS 140          Introduction to Multimedia Programming \n",
       "2752   MIS 342                     Systems Analysis and Design \n",
       "3136  INFO 355                             Systems Analysis II \n",
       "3158    SE 320            Software Verification and Validation \n",
       "3015    CS 175                 Advanced Computer Programming I "
      ]
     },
     "execution_count": 30,
     "metadata": {},
     "output_type": "execute_result"
    }
   ],
   "source": [
    "get_recommendations(\"CS 172\", tf_idf_cosine_sim)"
   ]
  },
  {
   "cell_type": "code",
   "execution_count": 31,
   "metadata": {},
   "outputs": [
    {
     "data": {
      "text/html": [
       "<div>\n",
       "<style scoped>\n",
       "    .dataframe tbody tr th:only-of-type {\n",
       "        vertical-align: middle;\n",
       "    }\n",
       "\n",
       "    .dataframe tbody tr th {\n",
       "        vertical-align: top;\n",
       "    }\n",
       "\n",
       "    .dataframe thead th {\n",
       "        text-align: right;\n",
       "    }\n",
       "</style>\n",
       "<table border=\"1\" class=\"dataframe\">\n",
       "  <thead>\n",
       "    <tr style=\"text-align: right;\">\n",
       "      <th></th>\n",
       "      <th>CourseID</th>\n",
       "      <th>CourseName</th>\n",
       "    </tr>\n",
       "  </thead>\n",
       "  <tbody>\n",
       "    <tr>\n",
       "      <td>3118</td>\n",
       "      <td>INFO 152</td>\n",
       "      <td>Web Systems and Services II</td>\n",
       "    </tr>\n",
       "    <tr>\n",
       "      <td>578</td>\n",
       "      <td>IDM 101</td>\n",
       "      <td>History of Web Development</td>\n",
       "    </tr>\n",
       "    <tr>\n",
       "      <td>2759</td>\n",
       "      <td>MIS 352</td>\n",
       "      <td>Advanced Business Programming with ASP.Net</td>\n",
       "    </tr>\n",
       "    <tr>\n",
       "      <td>3036</td>\n",
       "      <td>CS 375</td>\n",
       "      <td>Web and Mobile App Development</td>\n",
       "    </tr>\n",
       "    <tr>\n",
       "      <td>584</td>\n",
       "      <td>IDM 221</td>\n",
       "      <td>Web Design I</td>\n",
       "    </tr>\n",
       "    <tr>\n",
       "      <td>585</td>\n",
       "      <td>IDM 222</td>\n",
       "      <td>Web Design II</td>\n",
       "    </tr>\n",
       "    <tr>\n",
       "      <td>597</td>\n",
       "      <td>IDM 364</td>\n",
       "      <td>Interactive App Design IV</td>\n",
       "    </tr>\n",
       "    <tr>\n",
       "      <td>561</td>\n",
       "      <td>VSCM 455</td>\n",
       "      <td>Electronic Portfolio</td>\n",
       "    </tr>\n",
       "    <tr>\n",
       "      <td>1064</td>\n",
       "      <td>WMGD 330</td>\n",
       "      <td>Web Graphics II</td>\n",
       "    </tr>\n",
       "    <tr>\n",
       "      <td>2758</td>\n",
       "      <td>MIS 351</td>\n",
       "      <td>Introduction to Programming for Business in C#</td>\n",
       "    </tr>\n",
       "  </tbody>\n",
       "</table>\n",
       "</div>"
      ],
      "text/plain": [
       "      CourseID                                       CourseName\n",
       "3118  INFO 152                     Web Systems and Services II \n",
       "578    IDM 101                      History of Web Development \n",
       "2759   MIS 352      Advanced Business Programming with ASP.Net \n",
       "3036    CS 375                  Web and Mobile App Development \n",
       "584    IDM 221                                    Web Design I \n",
       "585    IDM 222                                   Web Design II \n",
       "597    IDM 364                       Interactive App Design IV \n",
       "561   VSCM 455                            Electronic Portfolio \n",
       "1064  WMGD 330                                 Web Graphics II \n",
       "2758   MIS 351  Introduction to Programming for Business in C# "
      ]
     },
     "execution_count": 31,
     "metadata": {},
     "output_type": "execute_result"
    }
   ],
   "source": [
    "get_recommendations(\"INFO 151\", tf_idf_cosine_sim)"
   ]
  },
  {
   "cell_type": "code",
   "execution_count": 32,
   "metadata": {},
   "outputs": [
    {
     "data": {
      "text/html": [
       "<div>\n",
       "<style scoped>\n",
       "    .dataframe tbody tr th:only-of-type {\n",
       "        vertical-align: middle;\n",
       "    }\n",
       "\n",
       "    .dataframe tbody tr th {\n",
       "        vertical-align: top;\n",
       "    }\n",
       "\n",
       "    .dataframe thead th {\n",
       "        text-align: right;\n",
       "    }\n",
       "</style>\n",
       "<table border=\"1\" class=\"dataframe\">\n",
       "  <thead>\n",
       "    <tr style=\"text-align: right;\">\n",
       "      <th></th>\n",
       "      <th>CourseID</th>\n",
       "      <th>CourseName</th>\n",
       "    </tr>\n",
       "  </thead>\n",
       "  <tbody>\n",
       "    <tr>\n",
       "      <td>1527</td>\n",
       "      <td>ENGL 111</td>\n",
       "      <td>English Composition I</td>\n",
       "    </tr>\n",
       "    <tr>\n",
       "      <td>1528</td>\n",
       "      <td>ENGL 112</td>\n",
       "      <td>English Composition II</td>\n",
       "    </tr>\n",
       "    <tr>\n",
       "      <td>1524</td>\n",
       "      <td>ENGL 102</td>\n",
       "      <td>Composition and Rhetoric II: Advanced Research...</td>\n",
       "    </tr>\n",
       "    <tr>\n",
       "      <td>1525</td>\n",
       "      <td>ENGL 103</td>\n",
       "      <td>Composition and Rhetoric III: Themes and Genres</td>\n",
       "    </tr>\n",
       "    <tr>\n",
       "      <td>1529</td>\n",
       "      <td>ENGL 113</td>\n",
       "      <td>English Composition III</td>\n",
       "    </tr>\n",
       "    <tr>\n",
       "      <td>1871</td>\n",
       "      <td>HIST 102</td>\n",
       "      <td>Introductory Seminar in History II</td>\n",
       "    </tr>\n",
       "    <tr>\n",
       "      <td>2530</td>\n",
       "      <td>WRIT 220</td>\n",
       "      <td>[WI] Creative Nonfiction Writing</td>\n",
       "    </tr>\n",
       "    <tr>\n",
       "      <td>863</td>\n",
       "      <td>SCRP 260</td>\n",
       "      <td>Writing Comics</td>\n",
       "    </tr>\n",
       "    <tr>\n",
       "      <td>1584</td>\n",
       "      <td>ESL 002</td>\n",
       "      <td>Foundations of Academic Writing</td>\n",
       "    </tr>\n",
       "    <tr>\n",
       "      <td>144</td>\n",
       "      <td>ARTH 150</td>\n",
       "      <td>Art History Research Methods</td>\n",
       "    </tr>\n",
       "  </tbody>\n",
       "</table>\n",
       "</div>"
      ],
      "text/plain": [
       "      CourseID                                         CourseName\n",
       "1527  ENGL 111                             English Composition I \n",
       "1528  ENGL 112                            English Composition II \n",
       "1524  ENGL 102  Composition and Rhetoric II: Advanced Research...\n",
       "1525  ENGL 103   Composition and Rhetoric III: Themes and Genres \n",
       "1529  ENGL 113                           English Composition III \n",
       "1871  HIST 102                Introductory Seminar in History II \n",
       "2530  WRIT 220                  [WI] Creative Nonfiction Writing \n",
       "863   SCRP 260                                    Writing Comics \n",
       "1584   ESL 002                   Foundations of Academic Writing \n",
       "144   ARTH 150                      Art History Research Methods "
      ]
     },
     "execution_count": 32,
     "metadata": {},
     "output_type": "execute_result"
    }
   ],
   "source": [
    "get_recommendations(\"ENGL 101\", tf_idf_cosine_sim)"
   ]
  },
  {
   "cell_type": "markdown",
   "metadata": {},
   "source": [
    "# Cool stuff! Right! \n",
    "\n",
    "\n",
    "We were able to achieve arguably good results while by using a fairly staraightforward tf-idf model, now lets try to represent our courses as concepts,  "
   ]
  },
  {
   "cell_type": "markdown",
   "metadata": {},
   "source": [
    "# Tf-Idf is one way to represent the words but there are better ways\n",
    "\n",
    "# One such way is word embeddings\n",
    "\n",
    "Starting from basics, word embeddings are just another way to get vecor representation of the words but they can perform better than methods like tf-idf because they can look at words in context rather than as individual unrellated units.\n",
    "\n",
    "Simple example could be: \n",
    "    \n",
    "    She loves you.\n",
    "    He loves you.\n",
    "\n",
    "If we just use one hot vectors to repesent words using unique words from these sentences as vocabulary then our vocabulary is {\"she\" , \"he\" , \"love\" , \"you\"}\n",
    "\n",
    "she = {1, 0, 0, 0}, he = {0, 1, 0 , 0} , loves = {0, 0, 1, 0}, you = {0 , 0 , 0 , 1}\n",
    "\n",
    "Here the ideas of he and she are pretty close to each  other, they are both pronouns, signifying a person but they are as different to each other as they are to the words \"loves\" and \"you\". This is not particularly useful if we start to vizualize these word vectors in a 4 dimensional space, because intutively, \"she\" and \"he\" should be close together but if we use just one hot vectors to represent them they are not. \n",
    "\n",
    "\n",
    "Word embeddings like word2vect try to get around this by using the words in context. W\n"
   ]
  },
  {
   "cell_type": "code",
   "execution_count": 33,
   "metadata": {},
   "outputs": [],
   "source": [
    "from gensim.models.doc2vec import Doc2Vec, TaggedDocument\n",
    "from nltk.tokenize import word_tokenize"
   ]
  },
  {
   "cell_type": "code",
   "execution_count": null,
   "metadata": {},
   "outputs": [],
   "source": [
    "tagged_data = [TaggedDocument(words=word_tokenize(_d.lower()) , tags=[str(i)]) for i, _d in enumerate(data)]"
   ]
  },
  {
   "cell_type": "code",
   "execution_count": null,
   "metadata": {},
   "outputs": [],
   "source": []
  },
  {
   "cell_type": "code",
   "execution_count": null,
   "metadata": {},
   "outputs": [],
   "source": [
    "# !pip install gensim\n",
    "# !pip install spacy\n",
    "!pip install https://github.com/explosion/spacy-models/releases/download/en_core_web_sm-2.2.0/en_core_web_sm-2.2.0.tar.gz"
   ]
  },
  {
   "cell_type": "code",
   "execution_count": 10,
   "metadata": {},
   "outputs": [],
   "source": [
    "nlp = en_core_web_sm.load()\n"
   ]
  },
  {
   "cell_type": "code",
   "execution_count": 11,
   "metadata": {},
   "outputs": [],
   "source": [
    "def create_token_text_list(text):\n",
    "    doc = nlp(text)\n",
    "    token_text_list = []\n",
    "    for i in doc:\n",
    "        token_text_list.append(i.text)\n",
    "    return token_text_list\n",
    "def convert_string_to_list(text):\n",
    "    return [text.replace(\"\\xa0\", ' ')]"
   ]
  },
  {
   "cell_type": "code",
   "execution_count": 14,
   "metadata": {
    "scrolled": true
   },
   "outputs": [
    {
     "data": {
      "text/plain": [
       "[['Self',\n",
       "  '-',\n",
       "  'directed',\n",
       "  'within',\n",
       "  'the',\n",
       "  'area',\n",
       "  'of',\n",
       "  'study',\n",
       "  'requiring',\n",
       "  'intermittent',\n",
       "  'consultation',\n",
       "  'with',\n",
       "  'a',\n",
       "  'designated',\n",
       "  'instructor',\n",
       "  '.',\n",
       "  'ADGD I199'],\n",
       " ['Self',\n",
       "  '-',\n",
       "  'directed',\n",
       "  'within',\n",
       "  'the',\n",
       "  'area',\n",
       "  'of',\n",
       "  'study',\n",
       "  'requiring',\n",
       "  'intermittent',\n",
       "  'consultation',\n",
       "  'with',\n",
       "  'a',\n",
       "  'designated',\n",
       "  'instructor',\n",
       "  '.',\n",
       "  'ADGD I299'],\n",
       " ['Self',\n",
       "  '-',\n",
       "  'directed',\n",
       "  'within',\n",
       "  'the',\n",
       "  'area',\n",
       "  'of',\n",
       "  'study',\n",
       "  'requiring',\n",
       "  'intermittent',\n",
       "  'consultation',\n",
       "  'with',\n",
       "  'a',\n",
       "  'designated',\n",
       "  'instructor',\n",
       "  '.',\n",
       "  'ADGD I399']]"
      ]
     },
     "execution_count": 14,
     "metadata": {},
     "output_type": "execute_result"
    }
   ],
   "source": [
    "training_df = course_df[\"DescriptionBlock\"].apply(create_token_text_list ) +  course_df[\"CourseID\"].apply(convert_string_to_list)\n",
    "training_df.to_list()[:3]\n"
   ]
  },
  {
   "cell_type": "code",
   "execution_count": 15,
   "metadata": {
    "scrolled": true
   },
   "outputs": [
    {
     "name": "stderr",
     "output_type": "stream",
     "text": [
      "WARNING - 09:57:41: consider setting layer size to a multiple of 4 for greater performance\n",
      "INFO - 09:57:41: collecting all words and their counts\n",
      "INFO - 09:57:41: PROGRESS: at sentence #0, processed 0 words, keeping 0 word types\n",
      "INFO - 09:57:41: collected 16203 word types from a corpus of 208289 raw words and 4766 sentences\n",
      "INFO - 09:57:41: Loading a fresh vocabulary\n",
      "INFO - 09:57:41: effective_min_count=1 retains 16203 unique words (100% of original 16203, drops 0)\n",
      "INFO - 09:57:41: effective_min_count=1 leaves 208289 word corpus (100% of original 208289, drops 0)\n",
      "INFO - 09:57:41: deleting the raw counts dictionary of 16203 items\n",
      "INFO - 09:57:41: sample=0.001 downsamples 35 most-common words\n",
      "INFO - 09:57:41: downsampling leaves estimated 147434 word corpus (70.8% of prior 208289)\n",
      "INFO - 09:57:41: estimated required memory for 16203 words and 50 dimensions: 14582700 bytes\n",
      "INFO - 09:57:41: resetting layer weights\n",
      "INFO - 09:57:41: training model with 3 workers on 16203 vocabulary and 50 features, using sg=1 hs=0 sample=0.001 negative=5 window=3\n",
      "INFO - 09:57:41: worker thread finished; awaiting finish of 2 more threads\n",
      "INFO - 09:57:41: worker thread finished; awaiting finish of 1 more threads\n",
      "INFO - 09:57:41: worker thread finished; awaiting finish of 0 more threads\n",
      "INFO - 09:57:41: EPOCH - 1 : training on 208289 raw words (147488 effective words) took 0.2s, 675830 effective words/s\n",
      "INFO - 09:57:42: worker thread finished; awaiting finish of 2 more threads\n",
      "INFO - 09:57:42: worker thread finished; awaiting finish of 1 more threads\n",
      "INFO - 09:57:42: worker thread finished; awaiting finish of 0 more threads\n",
      "INFO - 09:57:42: EPOCH - 2 : training on 208289 raw words (147349 effective words) took 0.2s, 682879 effective words/s\n",
      "INFO - 09:57:42: worker thread finished; awaiting finish of 2 more threads\n",
      "INFO - 09:57:42: worker thread finished; awaiting finish of 1 more threads\n",
      "INFO - 09:57:42: worker thread finished; awaiting finish of 0 more threads\n",
      "INFO - 09:57:42: EPOCH - 3 : training on 208289 raw words (147385 effective words) took 0.2s, 663751 effective words/s\n",
      "INFO - 09:57:42: worker thread finished; awaiting finish of 2 more threads\n",
      "INFO - 09:57:42: worker thread finished; awaiting finish of 1 more threads\n",
      "INFO - 09:57:42: worker thread finished; awaiting finish of 0 more threads\n",
      "INFO - 09:57:42: EPOCH - 4 : training on 208289 raw words (147440 effective words) took 0.3s, 567193 effective words/s\n",
      "INFO - 09:57:42: worker thread finished; awaiting finish of 2 more threads\n",
      "INFO - 09:57:42: worker thread finished; awaiting finish of 1 more threads\n",
      "INFO - 09:57:42: worker thread finished; awaiting finish of 0 more threads\n",
      "INFO - 09:57:42: EPOCH - 5 : training on 208289 raw words (147451 effective words) took 0.3s, 585572 effective words/s\n",
      "INFO - 09:57:42: training on a 1041445 raw words (737113 effective words) took 1.2s, 621591 effective words/s\n"
     ]
    }
   ],
   "source": [
    "model = Word2Vec(training_df.to_list(), min_count=1,size= 50,workers=3, window =3, sg = 1)"
   ]
  }
 ],
 "metadata": {
  "kernelspec": {
   "display_name": "Python 3",
   "language": "python",
   "name": "python3"
  },
  "language_info": {
   "codemirror_mode": {
    "name": "ipython",
    "version": 3
   },
   "file_extension": ".py",
   "mimetype": "text/x-python",
   "name": "python",
   "nbconvert_exporter": "python",
   "pygments_lexer": "ipython3",
   "version": "3.7.4"
  }
 },
 "nbformat": 4,
 "nbformat_minor": 2
}
